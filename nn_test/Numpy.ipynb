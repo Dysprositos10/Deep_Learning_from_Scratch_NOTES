{
 "cells": [
  {
   "cell_type": "code",
   "execution_count": 2,
   "id": "b0e0a117",
   "metadata": {},
   "outputs": [],
   "source": [
    "import numpy as np"
   ]
  },
  {
   "cell_type": "markdown",
   "id": "787cc7fc",
   "metadata": {},
   "source": [
    "1.生成 NumPy 数组"
   ]
  },
  {
   "cell_type": "code",
   "execution_count": 3,
   "id": "39013401",
   "metadata": {},
   "outputs": [
    {
     "data": {
      "text/plain": [
       "(array([1., 2., 3.]), numpy.ndarray)"
      ]
     },
     "execution_count": 3,
     "metadata": {},
     "output_type": "execute_result"
    }
   ],
   "source": [
    "x = np.array([1.0, 2.0, 3.0])\n",
    "x,type(x)"
   ]
  },
  {
   "cell_type": "code",
   "execution_count": 5,
   "id": "5c0eaccd",
   "metadata": {},
   "outputs": [
    {
     "name": "stdout",
     "output_type": "stream",
     "text": [
      "[0 1 2]\n",
      "[1 2 3 4]\n",
      "[0 2 4 6 8]\n",
      "[5 4 3 2 1]\n",
      "[0.  0.1 0.2 0.3 0.4 0.5 0.6 0.7 0.8 0.9]\n"
     ]
    }
   ],
   "source": [
    "#np.arange(start=0, stop, step=1, dtype=None)\n",
    "import numpy as np\n",
    "print(np.arange(3))  # 输出：array([0, 1, 2])\n",
    "print(np.arange(1, 5) ) # 输出：array([1, 2, 3, 4])\n",
    "\n",
    "print(np.arange(0, 10, 2) ) # 步长2，输出：array([0, 2, 4, 6, 8])\n",
    "print(np.arange(5, 0, -1) ) # 逆序生成，输出：array([5, 4, 3, 2, 1])\n",
    "print(np.arange(0, 1, 0.1) ) # 浮点步长，输出：array([0. , 0.1, 0.2, ..., 0.9])"
   ]
  },
  {
   "cell_type": "markdown",
   "id": "cb3abd7a",
   "metadata": {},
   "source": [
    "2.NumPy 的算术运算"
   ]
  },
  {
   "cell_type": "code",
   "execution_count": null,
   "id": "56d17afd",
   "metadata": {},
   "outputs": [
    {
     "data": {
      "text/plain": [
       "(array([3., 6., 9.]),\n",
       " array([-1., -2., -3.]),\n",
       " array([ 2.,  8., 18.]),\n",
       " array([0.5, 0.5, 0.5]),\n",
       " array([0.5, 1. , 1.5]))"
      ]
     },
     "execution_count": 11,
     "metadata": {},
     "output_type": "execute_result"
    }
   ],
   "source": [
    "x = np.array([1.0, 2.0, 3.0])\n",
    "y = np.array([2.0, 4.0, 6.0])\n",
    "x + y,x - y,x * y,x / y,x / 2.0 #广播，与标量相乘"
   ]
  },
  {
   "cell_type": "markdown",
   "id": "46cfad32",
   "metadata": {},
   "source": [
    "3.NumPy 的 N 维数组"
   ]
  },
  {
   "cell_type": "code",
   "execution_count": 14,
   "id": "2691aa0f",
   "metadata": {},
   "outputs": [
    {
     "data": {
      "text/plain": [
       "(array([[1, 2],\n",
       "        [3, 4]]),\n",
       " (2, 2),\n",
       " dtype('int64'))"
      ]
     },
     "execution_count": 14,
     "metadata": {},
     "output_type": "execute_result"
    }
   ],
   "source": [
    "A = np.array([[1, 2], [3, 4]]) #二维数组，矩阵\n",
    "A,A.shape,A.dtype"
   ]
  },
  {
   "cell_type": "code",
   "execution_count": 18,
   "id": "605cce5c",
   "metadata": {},
   "outputs": [
    {
     "data": {
      "text/plain": [
       "(array([[3, 0],\n",
       "        [0, 6]]),\n",
       " array([[ 4,  2],\n",
       "        [ 3, 10]]),\n",
       " array([[ 3,  0],\n",
       "        [ 0, 24]]),\n",
       " array([[10, 20],\n",
       "        [30, 40]]))"
      ]
     },
     "execution_count": 18,
     "metadata": {},
     "output_type": "execute_result"
    }
   ],
   "source": [
    "B = np.array([[3, 0],[0, 6]])\n",
    "B,A + B,A * B,A*10"
   ]
  },
  {
   "cell_type": "markdown",
   "id": "1e1aa32a",
   "metadata": {},
   "source": [
    "4.广播"
   ]
  },
  {
   "cell_type": "code",
   "execution_count": 22,
   "id": "9742916d",
   "metadata": {},
   "outputs": [
    {
     "data": {
      "text/plain": [
       "array([[10, 40],\n",
       "       [30, 80]])"
      ]
     },
     "execution_count": 22,
     "metadata": {},
     "output_type": "execute_result"
    }
   ],
   "source": [
    "#前例中，标量 10 被当作 2 × 2 的矩阵，([[10, 10],[10, 10]])\n",
    "A = np.array([[1, 2], [3, 4]])\n",
    "B = np.array([10, 20])#=([[10, 20],[10, 20]])\n",
    "A * B"
   ]
  },
  {
   "cell_type": "markdown",
   "id": "b884c9fb",
   "metadata": {},
   "source": [
    "5.访问元素"
   ]
  },
  {
   "cell_type": "code",
   "execution_count": null,
   "id": "10f08845",
   "metadata": {},
   "outputs": [
    {
     "data": {
      "text/plain": [
       "array([[51, 55],\n",
       "       [14, 19],\n",
       "       [ 0,  4]])"
      ]
     },
     "execution_count": 24,
     "metadata": {},
     "output_type": "execute_result"
    }
   ],
   "source": [
    "X = np.array([[51, 55], [14, 19], [0, 4]])\n",
    "X"
   ]
  },
  {
   "cell_type": "code",
   "execution_count": 30,
   "id": "3d4f14cb",
   "metadata": {},
   "outputs": [
    {
     "data": {
      "text/plain": [
       "array([51, 55])"
      ]
     },
     "execution_count": 30,
     "metadata": {},
     "output_type": "execute_result"
    }
   ],
   "source": [
    "X[0] # 第 0 行"
   ]
  },
  {
   "cell_type": "code",
   "execution_count": null,
   "id": "19819ac3",
   "metadata": {},
   "outputs": [
    {
     "data": {
      "text/plain": [
       "(55, 55)"
      ]
     },
     "execution_count": 32,
     "metadata": {},
     "output_type": "execute_result"
    }
   ],
   "source": [
    "X[0][1],X[0,1]  # (0,1) 的元素 ,两种表示\n"
   ]
  },
  {
   "cell_type": "code",
   "execution_count": 36,
   "id": "083b1e03",
   "metadata": {},
   "outputs": [
    {
     "data": {
      "text/plain": [
       "array([51, 55, 14, 19,  0,  4])"
      ]
     },
     "execution_count": 36,
     "metadata": {},
     "output_type": "execute_result"
    }
   ],
   "source": [
    "X = X.flatten()# 将 X 转换为一维数组\n",
    "X"
   ]
  },
  {
   "cell_type": "code",
   "execution_count": 37,
   "id": "2464a284",
   "metadata": {},
   "outputs": [
    {
     "data": {
      "text/plain": [
       "array([51, 14,  0])"
      ]
     },
     "execution_count": 37,
     "metadata": {},
     "output_type": "execute_result"
    }
   ],
   "source": [
    "X[np.array([0, 2, 4])] # 获取索引为 0、2、4 的元素"
   ]
  },
  {
   "cell_type": "code",
   "execution_count": null,
   "id": "9382caa0",
   "metadata": {},
   "outputs": [
    {
     "data": {
      "text/plain": [
       "(array([ True,  True, False,  True, False, False]), array([51, 55, 19]))"
      ]
     },
     "execution_count": 39,
     "metadata": {},
     "output_type": "execute_result"
    }
   ],
   "source": [
    "X > 15,X[X>15]\n",
    "#对 NumPy 数组使用不等号运算会得到布尔型的数组，再加上X会取出数组元素"
   ]
  },
  {
   "cell_type": "markdown",
   "id": "cb720a38",
   "metadata": {},
   "source": [
    "6.多维数组"
   ]
  },
  {
   "cell_type": "code",
   "execution_count": null,
   "id": "bff0799d",
   "metadata": {},
   "outputs": [
    {
     "name": "stdout",
     "output_type": "stream",
     "text": [
      "[1 2 3 4]\n"
     ]
    },
    {
     "data": {
      "text/plain": [
       "(1, (4,), 4)"
      ]
     },
     "execution_count": 7,
     "metadata": {},
     "output_type": "execute_result"
    }
   ],
   "source": [
    "#一维数组\n",
    "import numpy as np\n",
    "A = np.array([1, 2, 3, 4])\n",
    "print(A)\n",
    "# np.ndim() :数组维数（行数）\n",
    "#A.shape  : 数组的形状（几行几列）\n",
    "#A.shape[0]：行数，1是列数\n",
    "np.ndim(A),A.shape,A.shape[0] "
   ]
  },
  {
   "cell_type": "code",
   "execution_count": null,
   "id": "43d83e83",
   "metadata": {},
   "outputs": [
    {
     "name": "stdout",
     "output_type": "stream",
     "text": [
      "[[1 2]\n",
      " [3 4]\n",
      " [5 6]]\n"
     ]
    },
    {
     "data": {
      "text/plain": [
       "(2, (3, 2))"
      ]
     },
     "execution_count": 8,
     "metadata": {},
     "output_type": "execute_result"
    }
   ],
   "source": [
    "#二维数组/矩阵\n",
    "B = np.array([[1,2], [3,4], [5,6]])\n",
    "print(B)\n",
    "np.ndim(B),B.shape"
   ]
  },
  {
   "cell_type": "code",
   "execution_count": null,
   "id": "c8b865a4",
   "metadata": {},
   "outputs": [
    {
     "data": {
      "text/plain": [
       "((2, 2),\n",
       " (2, 2),\n",
       " array([[19, 22],\n",
       "        [43, 50]]),\n",
       " array([[23, 34],\n",
       "        [31, 46]]))"
      ]
     },
     "execution_count": 12,
     "metadata": {},
     "output_type": "execute_result"
    }
   ],
   "source": [
    "#矩阵运算1\n",
    "A = np.array([[1,2], [3,4]])\n",
    "B = np.array([[5,6], [7,8]])\n",
    "A.shape,B.shape,np.dot(A, B),np.dot(B, A)"
   ]
  },
  {
   "cell_type": "code",
   "execution_count": null,
   "id": "502d941e",
   "metadata": {},
   "outputs": [
    {
     "data": {
      "text/plain": [
       "((2, 3),\n",
       " (3, 2),\n",
       " array([[22, 28],\n",
       "        [49, 64]]),\n",
       " array([[ 9, 12, 15],\n",
       "        [19, 26, 33],\n",
       "        [29, 40, 51]]))"
      ]
     },
     "execution_count": 13,
     "metadata": {},
     "output_type": "execute_result"
    }
   ],
   "source": [
    "##矩阵运算2:A列数 = B行数 → A行B列\n",
    "A = np.array([[1,2,3], [4,5,6]])\n",
    "B = np.array([[1,2], [3,4], [5,6]])\n",
    "A.shape,B.shape,np.dot(A, B),np.dot(B, A)"
   ]
  },
  {
   "cell_type": "code",
   "execution_count": null,
   "id": "580250e3",
   "metadata": {},
   "outputs": [
    {
     "data": {
      "text/plain": [
       "((3, 2), (2,), array([23, 53, 83]))"
      ]
     },
     "execution_count": 17,
     "metadata": {},
     "output_type": "execute_result"
    }
   ],
   "source": [
    "#矩阵运算3 :A是二维数组，B是一维数组，元素个数仍保持一致\n",
    "A = np.array([[1,2], [3, 4], [5,6]]) #(3x2)\n",
    "B = np.array([7,8]) #(2x1)\n",
    "A.shape,B.shape,np.dot(A, B) #结果得2相当于行数对应A的列数 因为一维数组相当于列向量，内积的形状为 (3,)，还是列向量"
   ]
  }
 ],
 "metadata": {
  "kernelspec": {
   "display_name": "dl3.8",
   "language": "python",
   "name": "dl3.8"
  }
 },
 "nbformat": 4,
 "nbformat_minor": 5
}
