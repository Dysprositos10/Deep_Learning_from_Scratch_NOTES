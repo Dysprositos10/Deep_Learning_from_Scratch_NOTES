{
 "cells": [
  {
   "cell_type": "markdown",
   "id": "f765d74d",
   "metadata": {},
   "source": [
    "AND函数 "
   ]
  },
  {
   "cell_type": "code",
   "execution_count": 4,
   "id": "51354029",
   "metadata": {},
   "outputs": [],
   "source": [
    "def AND(x1, x2):\n",
    "    w1, w2, theta = 0.5, 0.5, 0.7\n",
    "    tmp = x1*w1 + x2*w2\n",
    "    if tmp <= theta:\n",
    "        return 0\n",
    "    elif tmp > theta:\n",
    "        return 1"
   ]
  },
  {
   "cell_type": "code",
   "execution_count": 5,
   "id": "31fcf42a",
   "metadata": {},
   "outputs": [
    {
     "data": {
      "text/plain": [
       "(0, 0, 0, 1)"
      ]
     },
     "execution_count": 5,
     "metadata": {},
     "output_type": "execute_result"
    }
   ],
   "source": [
    "AND(0, 0) ,AND(1, 0) ,AND(0, 1) ,AND(1, 1) "
   ]
  },
  {
   "cell_type": "markdown",
   "id": "f7a66978",
   "metadata": {},
   "source": [
    "导入权重和偏置"
   ]
  },
  {
   "cell_type": "code",
   "execution_count": null,
   "id": "05d93185",
   "metadata": {},
   "outputs": [
    {
     "data": {
      "text/plain": [
       "(array([0. , 0.5]), 0.5)"
      ]
     },
     "execution_count": 8,
     "metadata": {},
     "output_type": "execute_result"
    }
   ],
   "source": [
    "import numpy as np\n",
    "x = np.array([0,1]) # 输入\n",
    "w = np.array([0.5, 0.5]) # 权重\n",
    "b = -0.7 # 偏置\n",
    "w*x"
   ]
  },
  {
   "cell_type": "code",
   "execution_count": null,
   "id": "117bec96",
   "metadata": {},
   "outputs": [
    {
     "data": {
      "text/plain": [
       "(0.5, -0.19999999999999996)"
      ]
     },
     "execution_count": 9,
     "metadata": {},
     "output_type": "execute_result"
    }
   ],
   "source": [
    "np.sum(w*x),np.sum(w*x) + b #逐元素加和"
   ]
  },
  {
   "cell_type": "code",
   "execution_count": 10,
   "id": "4c448137",
   "metadata": {},
   "outputs": [
    {
     "data": {
      "text/plain": [
       "-0.19999999999999996"
      ]
     },
     "execution_count": 10,
     "metadata": {},
     "output_type": "execute_result"
    }
   ],
   "source": [
    "y = np.dot(x,w) + b  #神经元的加权输入和，直接用内积\n",
    "y"
   ]
  },
  {
   "cell_type": "markdown",
   "id": "547f0774",
   "metadata": {},
   "source": [
    "用权重和偏置实现与门"
   ]
  },
  {
   "cell_type": "code",
   "execution_count": null,
   "id": "8fabad39",
   "metadata": {},
   "outputs": [],
   "source": [
    "def AND(x1, x2):\n",
    "    x = np.array([x1, x2])\n",
    "    w = np.array([0.5, 0.5])\n",
    "    b = -0.7\n",
    "    tmp = np.sum(w*x) + b  #等同于np.dot(x,w) + b \n",
    "    if tmp <= 0:\n",
    "        return 0\n",
    "    else:\n",
    "        return 1"
   ]
  },
  {
   "cell_type": "code",
   "execution_count": 12,
   "id": "bfea1b60",
   "metadata": {},
   "outputs": [
    {
     "data": {
      "text/plain": [
       "(0, 0, 0, 1)"
      ]
     },
     "execution_count": 12,
     "metadata": {},
     "output_type": "execute_result"
    }
   ],
   "source": [
    "AND(0, 0) ,AND(1, 0) ,AND(0, 1) ,AND(1, 1) "
   ]
  },
  {
   "cell_type": "code",
   "execution_count": 29,
   "id": "a78fd947",
   "metadata": {},
   "outputs": [],
   "source": [
    "#与非门\n",
    "def NAND(x1,x2):\n",
    "    x = np.array([x1,x2])\n",
    "    w = np.array([-0.5, -0.5])\n",
    "    b = 0.7 \n",
    "    tmp = np.dot(x,w) + b \n",
    "    if tmp <= 0:\n",
    "        return 0\n",
    "    else:\n",
    "        return 1\n",
    "    \n",
    "#或门\n",
    "def OR(x1, x2):\n",
    "    x = np.array([x1,x2])\n",
    "    w = np.array([0.5, 0.5])\n",
    "    b = -0.2\n",
    "    tmp = np.dot(x,w) + b \n",
    "    if tmp <= 0:\n",
    "        return 0\n",
    "    else:\n",
    "        return 1"
   ]
  },
  {
   "cell_type": "code",
   "execution_count": 26,
   "id": "001e899f",
   "metadata": {},
   "outputs": [
    {
     "data": {
      "text/plain": [
       "(1, 1, 1, 0)"
      ]
     },
     "execution_count": 26,
     "metadata": {},
     "output_type": "execute_result"
    }
   ],
   "source": [
    "NAND(0, 0) ,NAND(1, 0) ,NAND(0, 1) ,NAND(1, 1) "
   ]
  },
  {
   "cell_type": "code",
   "execution_count": 30,
   "id": "0c8d20d8",
   "metadata": {},
   "outputs": [
    {
     "data": {
      "text/plain": [
       "(0, 1, 1, 1)"
      ]
     },
     "execution_count": 30,
     "metadata": {},
     "output_type": "execute_result"
    }
   ],
   "source": [
    "OR(0, 0) ,OR(1, 0) ,OR(0, 1) ,OR(1, 1) "
   ]
  },
  {
   "cell_type": "markdown",
   "id": "5691535c",
   "metadata": {},
   "source": [
    "多层感知机（异或门实现）"
   ]
  },
  {
   "cell_type": "code",
   "execution_count": 35,
   "id": "540a1e11",
   "metadata": {},
   "outputs": [],
   "source": [
    "def XOR(x1, x2):\n",
    "    s1 = NAND(x1, x2)\n",
    "    s2 = OR(x1, x2)\n",
    "    y = AND(s1, s2)\n",
    "    return y"
   ]
  },
  {
   "cell_type": "code",
   "execution_count": 36,
   "id": "d11c835f",
   "metadata": {},
   "outputs": [
    {
     "data": {
      "text/plain": [
       "(0, 1, 1, 0)"
      ]
     },
     "execution_count": 36,
     "metadata": {},
     "output_type": "execute_result"
    }
   ],
   "source": [
    "XOR(0, 0) ,XOR(1, 0) ,XOR(0, 1) ,XOR(1, 1) "
   ]
  }
 ],
 "metadata": {
  "kernelspec": {
   "display_name": "dl3.8",
   "language": "python",
   "name": "dl3.8"
  },
  "language_info": {
   "codemirror_mode": {
    "name": "ipython",
    "version": 3
   },
   "file_extension": ".py",
   "mimetype": "text/x-python",
   "name": "python",
   "nbconvert_exporter": "python",
   "pygments_lexer": "ipython3",
   "version": "3.8.20"
  }
 },
 "nbformat": 4,
 "nbformat_minor": 5
}
